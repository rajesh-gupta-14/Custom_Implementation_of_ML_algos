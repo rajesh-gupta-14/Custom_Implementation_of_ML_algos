{
 "cells": [
  {
   "cell_type": "markdown",
   "metadata": {
    "colab_type": "text",
    "id": "j3sNphf9Mg7P"
   },
   "source": [
    "# <center>Custom Implementation of Linear Regression</center>"
   ]
  },
  {
   "cell_type": "markdown",
   "metadata": {},
   "source": [
    "## Team Details:\n",
    "#### Name: Rajesh Kumar Gupta\n",
    "#### Banner Number: B00791207\n",
    "#### Email ID: rajesh.gupta@dal.ca\n",
    "\n",
    "#### Name: Vismay Revankar\n",
    "#### Banner Number: B00813441\n",
    "#### Email ID: vismayhr@dal.ca"
   ]
  },
  {
   "cell_type": "code",
   "execution_count": null,
   "metadata": {
    "colab": {},
    "colab_type": "code",
    "id": "mFkmj-5OMg7S"
   },
   "outputs": [],
   "source": [
    "%matplotlib inline\n",
    "import matplotlib.pyplot as plt\n",
    "import numpy as np\n",
    "import pandas as pd\n",
    "from sklearn.tree import DecisionTreeClassifier\n",
    "from sklearn.linear_model import LinearRegression\n",
    "from sklearn.metrics import mean_squared_error\n",
    "from sklearn.feature_extraction.text import TfidfVectorizer\n",
    "from sklearn.preprocessing import OneHotEncoder\n",
    "from sklearn.preprocessing import LabelEncoder\n",
    "from sklearn import tree\n",
    "from sklearn.model_selection import train_test_split\n",
    "from sklearn.metrics import confusion_matrix\n",
    "from decimal import Decimal\n",
    "from math import log2\n",
    "import graphviz\n",
    "from sklearn import tree\n",
    "from IPython.display import Image\n",
    "from IPython.core.display import HTML"
   ]
  },
  {
   "cell_type": "markdown",
   "metadata": {
    "colab_type": "text",
    "id": "sLoJorKdMg7V"
   },
   "source": [
    "Download the following datasets from google drive [The links and names are embedded in the commands]. \n",
    "\n",
    "Those who use Linux/Mac/Colab can directly run the below cell by uncommenting the commands. "
   ]
  },
  {
   "cell_type": "code",
   "execution_count": 0,
   "metadata": {
    "colab": {},
    "colab_type": "code",
    "id": "CBWu_nKcMg7W"
   },
   "outputs": [],
   "source": [
    "# !curl -L -o real_news.txt \"https://drive.google.com/uc?export=download&id=1pVbIc8ZGqsNVQE7UXa6Pu5VxkW57Uono\"\n",
    "# !curl -L -o fake_news.txt \"https://drive.google.com/uc?export=download&id=1ejl2esjM8heh90hjdtUh39h3ysLeNa3A\"\n",
    "# !curl -L -o houses.csv \"https://drive.google.com/uc?export=download&id=1mwmM-EF58LRQjm0Hj5oirRAIXuTvlDzP\""
   ]
  },
  {
   "cell_type": "markdown",
   "metadata": {
    "colab_type": "text",
    "id": "QNNckXPkMg7u"
   },
   "source": [
    "## 2. Linear Regression"
   ]
  },
  {
   "cell_type": "markdown",
   "metadata": {
    "colab_type": "text",
    "id": "Bvpzj5HzMg7v"
   },
   "source": [
    "### Review Questions [10 pts (+5 bonus)]:\n",
    "\n",
    "1. <b> Update rule: </b>In addition to the usual loss term based on residuals, the cost function of linear regression can also incorporate a term for something called <i>regularization</i>. (The intuition behind this will be discussed in class later, but for now all you need is the equation). The cost function is then given as the sum of the squares of the residuals, plus an additional regularization term as follows:\n",
    "\n",
    "    $$\\epsilon = \\frac{1}{2N} \\sum_{i=1}^{N} (y^{(i)} - t^{(i)})^2 + \\frac{\\lambda}{2} \\sum_{j=0}^{D} w_j^2$$\n",
    "   \n",
    "   - N - size of training data\n",
    "   - t - Target output\n",
    "   - The predicted output $y$ is computed for a given $x$ as $$y = \\sum_{j=0}^{D} w_jx_j$$ \n",
    "  Assume that $x_0$ is always set to 1,  so that $w_0$ behaves as the bias term (this is just a notational convenience).\n",
    "   - D - Number of dimensions of each training data\n",
    "   - $\\lambda$ - controls the amount of regularization. Assume it is fixed to have some value between 0 and 1. \n",
    "   - $\\epsilon$ - The cost function to be minimized\n",
    "   \n",
    "   <b>Q:</b> Fill in the Gradient descent update rule for $w_j$ below [2 pts]:\n",
    "               \n",
    "$$w_j \\leftarrow w_j - \\alpha /N \\sum_{i=1}^{N} x_j(y^{(i)} - t^{(i)})$$\n",
    "  \n",
    "   \n",
    "   <b>Q:</b> This type of regularization is called \"weight decay\". Based on the above update rule, can you guess why? [1 pt] \n",
    "    <br><u><b>Answer:</b></u>Weight decay prevents the weights from growing too large and it reduces the chances of over fitting without increasing the bias significantly<br>\n",
    "   Hint: Requires rearranging and grouping terms. \n",
    "\n",
    "\n",
    "2. <b>Cost function: </b> Consider a Linear regression model in 2D space with 2 weights and no bias term:\n",
    "    $$ y = w_1 x_1 + w_2 x_2 $$ <br>\n",
    "    With MSE (mean-squared error), the total cost for the dataset is $\\epsilon = \\frac{1}{N} \\sum_{i=1}^{N} (y^{(i)} - t^{(i)})^2 $.\n",
    "    \n",
    "    Given a training set consisting of $N=3$ examples:\n",
    "    - $x^{(1)}=(2,0), t^{(1)} = 1$\n",
    "    - $x^{(2)}=(0,1), t^{(2)} = 2$\n",
    "    - $x^{(3)}=(0,1), t^{(3)} = 0$\n",
    "    \n",
    "   Write the cost in the form\n",
    "    $$ \\epsilon = c_1 (w_1 - d_1)^2 + c_2 ( w_2 - d_2)^2 + c_3$$\n",
    "    \n",
    "   <b>Q: </b> What are the values of $c_1, d_1, c_2, d_2$ and $c_3$? [2 pts] <br>\n",
    "   <b>Q: </b> Plot the above function for $\\epsilon = 1$; you may hand-draw it or use desmos graphing calculator. What shape does the cost function represent? [5 pts] <br>\n",
    "   \n",
    "   \n",
    "  - <b>Bonus Q: </b> Repeat by setting $\\epsilon=0$. What do you observe? Why? [2 pts] <br>\n",
    "  <b><u>Answer: </b></u>When epsilon is 0, there is no line to fit the data as all weights are 0 and hence, the linear equation equals 0. To have a line that fits the data, atleast one of the weights must be non-zero.<br>\n",
    "  - <b>Bonus Q: </b> Gradient Descent usually converges to the local minima; however, Linear Regression converges to the global minimum as there is only one minimum. What is your estimate of the number of different values of w1 and w2 at convergence? [3 pts] <br><b><u>Answer:</u></b>There are an infinite number of possible combinations for w1 and w2 at the global minima."
   ]
  },
  {
   "cell_type": "markdown",
   "metadata": {
    "colab_type": "text",
    "id": "F0ZNG66sMg7w"
   },
   "source": [
    "### 2.1 House Prices Data [5 pts]\n",
    "We will apply linear regression to predict house sale prices based on the data for houses sold in King County between May 2014 and May 2015. \n",
    "\n",
    "This is the description of the dataset we will be using:"
   ]
  },
  {
   "cell_type": "code",
   "execution_count": 14,
   "metadata": {
    "colab": {},
    "colab_type": "code",
    "id": "y_7Fy3OEMg7x",
    "outputId": "80c2d101-dc95-47b8-c99d-78a488f123d6",
    "scrolled": true
   },
   "outputs": [
    {
     "data": {
      "text/html": [
       "<div>\n",
       "<style scoped>\n",
       "    .dataframe tbody tr th:only-of-type {\n",
       "        vertical-align: middle;\n",
       "    }\n",
       "\n",
       "    .dataframe tbody tr th {\n",
       "        vertical-align: top;\n",
       "    }\n",
       "\n",
       "    .dataframe thead th {\n",
       "        text-align: right;\n",
       "    }\n",
       "</style>\n",
       "<table border=\"1\" class=\"dataframe\">\n",
       "  <thead>\n",
       "    <tr style=\"text-align: right;\">\n",
       "      <th></th>\n",
       "      <th>price (grands)</th>\n",
       "      <th>bedrooms</th>\n",
       "      <th>bathrooms</th>\n",
       "      <th>sqft_living</th>\n",
       "      <th>sqft_lot</th>\n",
       "      <th>floors</th>\n",
       "      <th>waterfront</th>\n",
       "      <th>view</th>\n",
       "      <th>condition</th>\n",
       "      <th>grade</th>\n",
       "      <th>sqft_above</th>\n",
       "      <th>sqft_basement</th>\n",
       "      <th>age</th>\n",
       "      <th>renovated_age</th>\n",
       "      <th>sqft_living15</th>\n",
       "      <th>sqft_lot15</th>\n",
       "    </tr>\n",
       "  </thead>\n",
       "  <tbody>\n",
       "    <tr>\n",
       "      <th>count</th>\n",
       "      <td>21613.000000</td>\n",
       "      <td>21613.000000</td>\n",
       "      <td>21613.000000</td>\n",
       "      <td>21613.000000</td>\n",
       "      <td>2.161300e+04</td>\n",
       "      <td>21613.000000</td>\n",
       "      <td>21613.000000</td>\n",
       "      <td>21613.000000</td>\n",
       "      <td>21613.000000</td>\n",
       "      <td>21613.000000</td>\n",
       "      <td>21613.000000</td>\n",
       "      <td>21613.000000</td>\n",
       "      <td>21613.000000</td>\n",
       "      <td>21613.000000</td>\n",
       "      <td>21613.000000</td>\n",
       "      <td>21613.000000</td>\n",
       "    </tr>\n",
       "    <tr>\n",
       "      <th>mean</th>\n",
       "      <td>540.088142</td>\n",
       "      <td>3.370842</td>\n",
       "      <td>2.114757</td>\n",
       "      <td>2079.899736</td>\n",
       "      <td>1.510697e+04</td>\n",
       "      <td>1.494309</td>\n",
       "      <td>0.007542</td>\n",
       "      <td>0.234303</td>\n",
       "      <td>3.409430</td>\n",
       "      <td>7.656873</td>\n",
       "      <td>1788.390691</td>\n",
       "      <td>291.509045</td>\n",
       "      <td>45.994864</td>\n",
       "      <td>2.380882</td>\n",
       "      <td>1986.552492</td>\n",
       "      <td>12768.455652</td>\n",
       "    </tr>\n",
       "    <tr>\n",
       "      <th>std</th>\n",
       "      <td>367.127196</td>\n",
       "      <td>0.930062</td>\n",
       "      <td>0.770163</td>\n",
       "      <td>918.440897</td>\n",
       "      <td>4.142051e+04</td>\n",
       "      <td>0.539989</td>\n",
       "      <td>0.086517</td>\n",
       "      <td>0.766318</td>\n",
       "      <td>0.650743</td>\n",
       "      <td>1.175459</td>\n",
       "      <td>828.090978</td>\n",
       "      <td>442.575043</td>\n",
       "      <td>29.373411</td>\n",
       "      <td>12.359528</td>\n",
       "      <td>685.391304</td>\n",
       "      <td>27304.179631</td>\n",
       "    </tr>\n",
       "    <tr>\n",
       "      <th>min</th>\n",
       "      <td>75.000000</td>\n",
       "      <td>0.000000</td>\n",
       "      <td>0.000000</td>\n",
       "      <td>290.000000</td>\n",
       "      <td>5.200000e+02</td>\n",
       "      <td>1.000000</td>\n",
       "      <td>0.000000</td>\n",
       "      <td>0.000000</td>\n",
       "      <td>1.000000</td>\n",
       "      <td>1.000000</td>\n",
       "      <td>290.000000</td>\n",
       "      <td>0.000000</td>\n",
       "      <td>2.000000</td>\n",
       "      <td>0.000000</td>\n",
       "      <td>399.000000</td>\n",
       "      <td>651.000000</td>\n",
       "    </tr>\n",
       "    <tr>\n",
       "      <th>25%</th>\n",
       "      <td>321.950000</td>\n",
       "      <td>3.000000</td>\n",
       "      <td>1.750000</td>\n",
       "      <td>1427.000000</td>\n",
       "      <td>5.040000e+03</td>\n",
       "      <td>1.000000</td>\n",
       "      <td>0.000000</td>\n",
       "      <td>0.000000</td>\n",
       "      <td>3.000000</td>\n",
       "      <td>7.000000</td>\n",
       "      <td>1190.000000</td>\n",
       "      <td>0.000000</td>\n",
       "      <td>20.000000</td>\n",
       "      <td>0.000000</td>\n",
       "      <td>1490.000000</td>\n",
       "      <td>5100.000000</td>\n",
       "    </tr>\n",
       "    <tr>\n",
       "      <th>50%</th>\n",
       "      <td>450.000000</td>\n",
       "      <td>3.000000</td>\n",
       "      <td>2.250000</td>\n",
       "      <td>1910.000000</td>\n",
       "      <td>7.618000e+03</td>\n",
       "      <td>1.500000</td>\n",
       "      <td>0.000000</td>\n",
       "      <td>0.000000</td>\n",
       "      <td>3.000000</td>\n",
       "      <td>7.000000</td>\n",
       "      <td>1560.000000</td>\n",
       "      <td>0.000000</td>\n",
       "      <td>42.000000</td>\n",
       "      <td>0.000000</td>\n",
       "      <td>1840.000000</td>\n",
       "      <td>7620.000000</td>\n",
       "    </tr>\n",
       "    <tr>\n",
       "      <th>75%</th>\n",
       "      <td>645.000000</td>\n",
       "      <td>4.000000</td>\n",
       "      <td>2.500000</td>\n",
       "      <td>2550.000000</td>\n",
       "      <td>1.068800e+04</td>\n",
       "      <td>2.000000</td>\n",
       "      <td>0.000000</td>\n",
       "      <td>0.000000</td>\n",
       "      <td>4.000000</td>\n",
       "      <td>8.000000</td>\n",
       "      <td>2210.000000</td>\n",
       "      <td>560.000000</td>\n",
       "      <td>66.000000</td>\n",
       "      <td>0.000000</td>\n",
       "      <td>2360.000000</td>\n",
       "      <td>10083.000000</td>\n",
       "    </tr>\n",
       "    <tr>\n",
       "      <th>max</th>\n",
       "      <td>7700.000000</td>\n",
       "      <td>33.000000</td>\n",
       "      <td>8.000000</td>\n",
       "      <td>13540.000000</td>\n",
       "      <td>1.651359e+06</td>\n",
       "      <td>3.500000</td>\n",
       "      <td>1.000000</td>\n",
       "      <td>4.000000</td>\n",
       "      <td>5.000000</td>\n",
       "      <td>13.000000</td>\n",
       "      <td>9410.000000</td>\n",
       "      <td>4820.000000</td>\n",
       "      <td>117.000000</td>\n",
       "      <td>114.000000</td>\n",
       "      <td>6210.000000</td>\n",
       "      <td>871200.000000</td>\n",
       "    </tr>\n",
       "  </tbody>\n",
       "</table>\n",
       "</div>"
      ],
      "text/plain": [
       "       price (grands)      bedrooms     bathrooms   sqft_living      sqft_lot  \\\n",
       "count    21613.000000  21613.000000  21613.000000  21613.000000  2.161300e+04   \n",
       "mean       540.088142      3.370842      2.114757   2079.899736  1.510697e+04   \n",
       "std        367.127196      0.930062      0.770163    918.440897  4.142051e+04   \n",
       "min         75.000000      0.000000      0.000000    290.000000  5.200000e+02   \n",
       "25%        321.950000      3.000000      1.750000   1427.000000  5.040000e+03   \n",
       "50%        450.000000      3.000000      2.250000   1910.000000  7.618000e+03   \n",
       "75%        645.000000      4.000000      2.500000   2550.000000  1.068800e+04   \n",
       "max       7700.000000     33.000000      8.000000  13540.000000  1.651359e+06   \n",
       "\n",
       "             floors    waterfront          view     condition         grade  \\\n",
       "count  21613.000000  21613.000000  21613.000000  21613.000000  21613.000000   \n",
       "mean       1.494309      0.007542      0.234303      3.409430      7.656873   \n",
       "std        0.539989      0.086517      0.766318      0.650743      1.175459   \n",
       "min        1.000000      0.000000      0.000000      1.000000      1.000000   \n",
       "25%        1.000000      0.000000      0.000000      3.000000      7.000000   \n",
       "50%        1.500000      0.000000      0.000000      3.000000      7.000000   \n",
       "75%        2.000000      0.000000      0.000000      4.000000      8.000000   \n",
       "max        3.500000      1.000000      4.000000      5.000000     13.000000   \n",
       "\n",
       "         sqft_above  sqft_basement           age  renovated_age  \\\n",
       "count  21613.000000   21613.000000  21613.000000   21613.000000   \n",
       "mean    1788.390691     291.509045     45.994864       2.380882   \n",
       "std      828.090978     442.575043     29.373411      12.359528   \n",
       "min      290.000000       0.000000      2.000000       0.000000   \n",
       "25%     1190.000000       0.000000     20.000000       0.000000   \n",
       "50%     1560.000000       0.000000     42.000000       0.000000   \n",
       "75%     2210.000000     560.000000     66.000000       0.000000   \n",
       "max     9410.000000    4820.000000    117.000000     114.000000   \n",
       "\n",
       "       sqft_living15     sqft_lot15  \n",
       "count   21613.000000   21613.000000  \n",
       "mean     1986.552492   12768.455652  \n",
       "std       685.391304   27304.179631  \n",
       "min       399.000000     651.000000  \n",
       "25%      1490.000000    5100.000000  \n",
       "50%      1840.000000    7620.000000  \n",
       "75%      2360.000000   10083.000000  \n",
       "max      6210.000000  871200.000000  "
      ]
     },
     "execution_count": 14,
     "metadata": {},
     "output_type": "execute_result"
    }
   ],
   "source": [
    "houses = pd.read_csv(\"houses.csv\")\n",
    "houses.describe()"
   ]
  },
  {
   "cell_type": "code",
   "execution_count": 15,
   "metadata": {
    "colab": {},
    "colab_type": "code",
    "id": "mNzMKYttMg71"
   },
   "outputs": [
    {
     "name": "stdout",
     "output_type": "stream",
     "text": [
      "[325.]\n",
      "2164.2829453280433 13208.783338492505\n"
     ]
    }
   ],
   "source": [
    "house_data = np.array(houses)\n",
    "X = house_data[:,1:] # Extract all columns of house_data excepting the price into X\n",
    "Y = house_data[:,0] # Extract the price column of house_data into targets.\n",
    "Y = Y.reshape((house_data.shape[0],1))\n",
    "print(Y[-1])\n",
    "\n",
    "_mean = house_data.mean()\n",
    "_std = house_data.std()\n",
    "print(_mean, _std)"
   ]
  },
  {
   "cell_type": "markdown",
   "metadata": {
    "colab_type": "text",
    "id": "gu45zY39Mg73"
   },
   "source": [
    "### 2.2 Linear Regression Code [10 pts]"
   ]
  },
  {
   "cell_type": "markdown",
   "metadata": {
    "colab_type": "text",
    "id": "eNIj3hoeMg74"
   },
   "source": [
    "For this assignment, we will train a simple linear regression model without any regularization. "
   ]
  },
  {
   "cell_type": "code",
   "execution_count": 17,
   "metadata": {
    "colab": {},
    "colab_type": "code",
    "id": "C58kxHqgMg74"
   },
   "outputs": [],
   "source": [
    "def linear_regression(data,\n",
    "                      targets,\n",
    "                      learning_rate,\n",
    "                      epochs,\n",
    "                      normalize = True,\n",
    "                      validate_code = False,\n",
    "                      plot_learning_curve = False,\n",
    "                      return_predictions = False\n",
    "                     ):\n",
    "    \"\"\"\n",
    "    The arguments are self-descriptive. \n",
    "    \"\"\"\n",
    "    \n",
    "    # Store the coefficients and bias term in the parameters. \n",
    "    # Initialize them with zeros. \n",
    "    parameters = np.zeros((data.shape[1]+1,1))\n",
    "      \n",
    "    if normalize:\n",
    "        # Normalize the data to have zero mean and unit variance.\n",
    "        # Update the dataset.\n",
    "        data_for_custom = (data - _mean) / _std\n",
    "        ones_vector = np.ones((data.shape[0],1))\n",
    "        data_for_custom = np.append(ones_vector, data_for_custom, axis=1)\n",
    "        \n",
    "        targets = (targets - _mean) / _std\n",
    "    else:\n",
    "        ones_vector = np.ones((data.shape[0],1))\n",
    "        data_for_custom = np.append(ones_vector, data, axis=1)    \n",
    "\n",
    "    tdata = np.transpose(data_for_custom)\n",
    "    costs = []\n",
    "    custom_predictions = []\n",
    "    \n",
    "    for epoch in range(epochs):\n",
    "        custom_prediction = data_for_custom.dot(parameters)\n",
    "        custom_predictions.append(custom_prediction)\n",
    "        loss = custom_prediction - targets\n",
    "        parameters = parameters - ((1./data.shape[0]) * learning_rate * tdata.dot(loss))\n",
    "        \n",
    "        # Compute the new cost and append it to the list\n",
    "        cost = np.sum(loss**2)/(2*data.shape[0])\n",
    "        costs.append(cost)\n",
    "        \n",
    "    # Compute the predicted house prices.\n",
    "    predictions = custom_predictions[np.argmin(costs)]\n",
    "    \n",
    "    # Validation code. Already done for you. \n",
    "    if validate_code:\n",
    "        lr = LinearRegression()\n",
    "        lr.fit(data,targets)\n",
    "        print(\"The coefficients and bias term of the custom LR:\", parameters.reshape(-1))\n",
    "        print(\"The coefficients of the SkLearn LR:\\t\\t\", lr.coef_.reshape(-1))\n",
    "        print(\"The bias of the SkLearn LR\\t\\t\\t\",lr.intercept_)\n",
    "        #print(lr.predict(data))\n",
    "    \n",
    "    # Print the MSE at the end of training. \n",
    "    final_mse = costs[np.argmin(costs)]\n",
    "    print(\"MSE after training: \",final_mse)\n",
    "    \n",
    "    if plot_learning_curve:\n",
    "        # Plot the learning curve. Use log scale. \n",
    "        pass\n",
    "    \n",
    "    # Return the required results. Already done for you. \n",
    "    if return_predictions and normalize:\n",
    "        return (predictions*_std)+_mean\n",
    "    elif return_predictions and not normalize:\n",
    "        return predictions\n",
    "    else:\n",
    "        return final_mse"
   ]
  },
  {
   "cell_type": "markdown",
   "metadata": {
    "colab_type": "text",
    "id": "vqOXlo5vMg76"
   },
   "source": [
    "First, let's validate the code written using a simple synthesized dataset. <br>\n",
    "\n",
    "\n",
    "[Verify your answer by manually comparing the parameters.]"
   ]
  },
  {
   "cell_type": "code",
   "execution_count": 18,
   "metadata": {
    "colab": {},
    "colab_type": "code",
    "id": "bEBBXvXUMg78",
    "outputId": "6627fa45-b4a3-4d3f-e85b-ce3d9b2b515e"
   },
   "outputs": [
    {
     "name": "stdout",
     "output_type": "stream",
     "text": [
      "The coefficients and bias term of the custom LR: [10.  1.  2.  3.]\n",
      "The coefficients of the SkLearn LR:\t\t [1. 2. 3.]\n",
      "The bias of the SkLearn LR\t\t\t [10.]\n",
      "MSE after training:  2.934483681331642e-28\n"
     ]
    },
    {
     "data": {
      "text/plain": [
       "2.934483681331642e-28"
      ]
     },
     "execution_count": 18,
     "metadata": {},
     "output_type": "execute_result"
    }
   ],
   "source": [
    "X_simple = np.random.randn(100,3) # 100 3D data points\n",
    "w = np.array([[1],[2],[3]])\n",
    "b = 10\n",
    "Y_simple = np.matmul(X_simple,w)+b\n",
    "linear_regression(X_simple,\n",
    "                          Y_simple,\n",
    "                          normalize=False,\n",
    "                          learning_rate=1, \n",
    "                          epochs=30,\n",
    "                          validate_code=True)"
   ]
  },
  {
   "cell_type": "markdown",
   "metadata": {
    "colab_type": "text",
    "id": "ev0mnemwNjkV"
   },
   "source": [
    "### 2.3 Experiments [2+2+3]"
   ]
  },
  {
   "cell_type": "markdown",
   "metadata": {
    "colab_type": "text",
    "id": "kOOtVvbqMg8A"
   },
   "source": [
    "Now, vary the learning_rates [Ex: In orders of 10 - 10, 1, 0.1, 0.01, 0.001] and plot the learning curves for each of them. \n",
    "\n",
    "Choose the best-performing model for 10000 iterations."
   ]
  },
  {
   "cell_type": "code",
   "execution_count": 19,
   "metadata": {
    "colab": {},
    "colab_type": "code",
    "id": "G7mO1LwYMg8B",
    "scrolled": true
   },
   "outputs": [
    {
     "name": "stderr",
     "output_type": "stream",
     "text": [
      "/home/vismay/Vismay/Softwares/Anaconda3/lib/python3.6/site-packages/ipykernel_launcher.py:43: RuntimeWarning: overflow encountered in square\n",
      "/home/vismay/Vismay/Softwares/Anaconda3/lib/python3.6/site-packages/numpy/core/_methods.py:32: RuntimeWarning: overflow encountered in reduce\n",
      "  return umr_sum(a, axis, dtype, out, keepdims)\n"
     ]
    },
    {
     "name": "stdout",
     "output_type": "stream",
     "text": [
      "The coefficients and bias term of the custom LR: [nan nan nan nan nan nan nan nan nan nan nan nan nan nan nan nan]\n",
      "The coefficients of the SkLearn LR:\t\t [-2.98307324e-03  3.51311565e-03  8.27538238e-06 -1.65348215e-10\n",
      "  2.04511125e-03  4.40034482e-02  3.28319611e-03  1.43192735e-03\n",
      "  9.06590909e-03  3.90720721e-06  4.36817516e-06  2.72671138e-04\n",
      "  1.00503542e-05  1.86717315e-06 -4.14847363e-08]\n",
      "The bias of the SkLearn LR\t\t\t [-0.24000827]\n",
      "MSE after training:  nan\n",
      "The coefficients and bias term of the custom LR: [nan nan nan nan nan nan nan nan nan nan nan nan nan nan nan nan]\n",
      "The coefficients of the SkLearn LR:\t\t [-2.98307324e-03  3.51311565e-03  8.27538238e-06 -1.65348215e-10\n",
      "  2.04511125e-03  4.40034482e-02  3.28319611e-03  1.43192735e-03\n",
      "  9.06590909e-03  3.90720721e-06  4.36817516e-06  2.72671138e-04\n",
      "  1.00503542e-05  1.86717315e-06 -4.14847363e-08]\n",
      "The bias of the SkLearn LR\t\t\t [-0.24000827]\n",
      "MSE after training:  nan\n",
      "The coefficients and bias term of the custom LR: [nan nan nan nan nan nan nan nan nan nan nan nan nan nan nan nan]\n",
      "The coefficients of the SkLearn LR:\t\t [-2.98307324e-03  3.51311565e-03  8.27538238e-06 -1.65348215e-10\n",
      "  2.04511125e-03  4.40034482e-02  3.28319611e-03  1.43192735e-03\n",
      "  9.06590909e-03  3.90720721e-06  4.36817516e-06  2.72671138e-04\n",
      "  1.00503542e-05  1.86717315e-06 -4.14847363e-08]\n",
      "The bias of the SkLearn LR\t\t\t [-0.24000827]\n",
      "MSE after training:  nan\n",
      "The coefficients and bias term of the custom LR: [-8.32731298e-02  1.35326457e-02  1.37178043e-02  1.55065761e-01\n",
      "  7.89909760e-05  1.36634901e-02  1.36811347e-02  1.39888111e-02\n",
      "  1.37368729e-02  1.40180048e-02  7.93403725e-02  8.93698404e-02\n",
      "  2.31582166e-02  1.61499789e-02  8.10206019e-02 -7.95627866e-04]\n",
      "The coefficients of the SkLearn LR:\t\t [-2.98307324e-03  3.51311565e-03  8.27538238e-06 -1.65348215e-10\n",
      "  2.04511125e-03  4.40034482e-02  3.28319611e-03  1.43192735e-03\n",
      "  9.06590909e-03  3.90720721e-06  4.36817516e-06  2.72671138e-04\n",
      "  1.00503542e-05  1.86717315e-06 -4.14847363e-08]\n",
      "The bias of the SkLearn LR\t\t\t [-0.24000827]\n",
      "MSE after training:  0.00019161374112232883\n",
      "The coefficients and bias term of the custom LR: [-0.09749319  0.01595507  0.01596683  0.01344903  0.00050362  0.01596616\n",
      "  0.01597486  0.01597892  0.01594979  0.01593368  0.01281967  0.01660379\n",
      "  0.01560695  0.01598674  0.0093386   0.00037087]\n",
      "The coefficients of the SkLearn LR:\t\t [-2.98307324e-03  3.51311565e-03  8.27538238e-06 -1.65348215e-10\n",
      "  2.04511125e-03  4.40034482e-02  3.28319611e-03  1.43192735e-03\n",
      "  9.06590909e-03  3.90720721e-06  4.36817516e-06  2.72671138e-04\n",
      "  1.00503542e-05  1.86717315e-06 -4.14847363e-08]\n",
      "The bias of the SkLearn LR\t\t\t [-0.24000827]\n",
      "MSE after training:  0.0003417319971829351\n",
      "The coefficients and bias term of the custom LR: [-0.06552885  0.01072093  0.01072748  0.00203177  0.00013733  0.01072989\n",
      "  0.01073703  0.01073659  0.01072015  0.0107009   0.00317183  0.00959696\n",
      "  0.01050241  0.01072817  0.00190951 -0.00659947]\n",
      "The coefficients of the SkLearn LR:\t\t [-2.98307324e-03  3.51311565e-03  8.27538238e-06 -1.65348215e-10\n",
      "  2.04511125e-03  4.40034482e-02  3.28319611e-03  1.43192735e-03\n",
      "  9.06590909e-03  3.90720721e-06  4.36817516e-06  2.72671138e-04\n",
      "  1.00503542e-05  1.86717315e-06 -4.14847363e-08]\n",
      "The bias of the SkLearn LR\t\t\t [-0.24000827]\n",
      "MSE after training:  0.0011082886325693734\n"
     ]
    },
    {
     "data": {
      "text/plain": [
       "[<matplotlib.lines.Line2D at 0x7ffae8f90dd8>]"
      ]
     },
     "execution_count": 19,
     "metadata": {},
     "output_type": "execute_result"
    },
    {
     "data": {
      "image/png": "[encoded data removed]",
      "text/plain": [
       "<Figure size 432x288 with 1 Axes>"
      ]
     },
     "metadata": {},
     "output_type": "display_data"
    }
   ],
   "source": [
    "learning_rates_list = [10, -10, 1, 0.1, 0.001, 0.0001]\n",
    "mse_list = []\n",
    "for learning_rate in learning_rates_list:\n",
    "    mse = linear_regression(X, Y, learning_rate, 10000, return_predictions=False, validate_code=True)\n",
    "    mse_list.append(mse)\n",
    "plt.plot(learning_rates_list, mse_list)"
   ]
  },
  {
   "cell_type": "markdown",
   "metadata": {
    "colab_type": "text",
    "id": "C_gKu4IYMg8E"
   },
   "source": [
    "For the best-performing model, plot the graph of predicted prices vs actual prices (scatter plot)."
   ]
  },
  {
   "cell_type": "code",
   "execution_count": 20,
   "metadata": {
    "colab": {},
    "colab_type": "code",
    "id": "pCmVACKiMg8F"
   },
   "outputs": [
    {
     "name": "stdout",
     "output_type": "stream",
     "text": [
      "The coefficients and bias term of the custom LR: [-8.32731298e-02  1.35326457e-02  1.37178043e-02  1.55065761e-01\n",
      "  7.89909760e-05  1.36634901e-02  1.36811347e-02  1.39888111e-02\n",
      "  1.37368729e-02  1.40180048e-02  7.93403725e-02  8.93698404e-02\n",
      "  2.31582166e-02  1.61499789e-02  8.10206019e-02 -7.95627866e-04]\n",
      "The coefficients of the SkLearn LR:\t\t [-2.98307324e-03  3.51311565e-03  8.27538238e-06 -1.65348215e-10\n",
      "  2.04511125e-03  4.40034482e-02  3.28319611e-03  1.43192735e-03\n",
      "  9.06590909e-03  3.90720721e-06  4.36817516e-06  2.72671138e-04\n",
      "  1.00503542e-05  1.86717315e-06 -4.14847363e-08]\n",
      "The bias of the SkLearn LR\t\t\t [-0.24000827]\n",
      "MSE after training:  0.00019161374112232883\n"
     ]
    },
    {
     "data": {
      "image/png": "[encoded data removed]",
      "text/plain": [
       "<Figure size 1152x720 with 1 Axes>"
      ]
     },
     "metadata": {},
     "output_type": "display_data"
    }
   ],
   "source": [
    "living_area = X[:,3]\n",
    "living_area = np.reshape(living_area, (living_area.shape[0],1))\n",
    "best_predictions = linear_regression(X, Y, 0.1, 10000, return_predictions=True, validate_code=True)\n",
    "\n",
    "plt.figure(figsize=(16,10))\n",
    "actual_prices = plt.scatter(living_area, Y, color='b')\n",
    "predicted_prices = plt.scatter(living_area, best_predictions, color='r')\n",
    "\n",
    "plt.legend((actual_prices, predicted_prices),\n",
    "           ('Actual Prices', 'Predicted Prices'),\n",
    "           scatterpoints=1,\n",
    "           loc='upper right',\n",
    "           fontsize=16)\n",
    "\n",
    "plt.show()"
   ]
  },
  {
   "cell_type": "markdown",
   "metadata": {
    "colab_type": "text",
    "id": "e8UgEZ1iMg8G"
   },
   "source": [
    "Plot the predictions of the best-obtained model as a function of the sqft_living. \n",
    "\n",
    "Now, train a linear regressor (LR2) that predicts the house price only based on sqft_living. \n",
    "In the same plot as above, plot the graph of LR2 predictions vs sqft_living."
   ]
  },
  {
   "cell_type": "code",
   "execution_count": 21,
   "metadata": {
    "colab": {},
    "colab_type": "code",
    "id": "u9LUd4GqMg8I"
   },
   "outputs": [
    {
     "name": "stdout",
     "output_type": "stream",
     "text": [
      "The coefficients and bias term of the custom LR: [-0.12374193  0.0007947 ]\n",
      "The coefficients of the SkLearn LR:\t\t [6.01646212e-08]\n",
      "The bias of the SkLearn LR\t\t\t [-0.12387215]\n",
      "MSE after training:  0.0003831351166006372\n"
     ]
    },
    {
     "data": {
      "image/png": "[encoded data removed]",
      "text/plain": [
       "<Figure size 1152x720 with 1 Axes>"
      ]
     },
     "metadata": {},
     "output_type": "display_data"
    }
   ],
   "source": [
    "living_area = X[:,3]\n",
    "living_area = np.reshape(living_area, (living_area.shape[0],1))\n",
    "lr2_best_predictions = linear_regression(living_area, Y, 0.1, 10000, return_predictions=True, validate_code=True)\n",
    "\n",
    "plt.figure(figsize=(16,10))\n",
    "actual_prices = plt.scatter(living_area, Y, color='b')\n",
    "predicted_prices = plt.scatter(living_area, lr2_best_predictions, color='r')\n",
    "plt.legend((actual_prices, predicted_prices),\n",
    "           ('Actual Prices', 'Predicted Prices'),\n",
    "           scatterpoints=1,\n",
    "           loc='upper right',\n",
    "           fontsize=16)\n",
    "plt.show()"
   ]
  },
  {
   "cell_type": "markdown",
   "metadata": {
    "colab_type": "text",
    "id": "rWe0gS9OMg8K"
   },
   "source": [
    "### 2.4 Observations [8 pts]\n",
    "\n",
    "In this part, list the various conclusions you made from the experiments above. <br>\n",
    "For example: \n",
    "- What did you learn by observing the various plots above? <br><b><u>Answer:</u></b> In the plot, where only sqft area is used to predict the prices, it can be seen that the price linearly increases with increase in area. However, in the plot where 15 parameters are used, it can be seen that there is no linear increase in price with respect to a single parameter.\n",
    "- How well did Linear Regression perform? <br><b><u>Answer:</u></b> Calculate Accuracy based on input data and comment on why certain pointrs were misclassified.\n",
    "<b><u> As seen in the first plot, the custom linear regression closely predicts many of the values. The misclassified values can be considered as outliers which do not follow the parameters. </u></b>\n",
    "- Can you think of a way to improve the performance? <br><b><u>Answer:</u></b> Some ways to improve the performance could be:\n",
    "  * Cross validation\n",
    "  * Increase the number of parameters\n",
    "  * Increase the size of the dataset\n",
    "  * Find and establish correlations between dependent variables"
   ]
  },
  {
   "cell_type": "code",
   "execution_count": 0,
   "metadata": {
    "colab": {},
    "colab_type": "code",
    "id": "Tn_XWIZaMg8L"
   },
   "outputs": [],
   "source": []
  }
 ],
 "metadata": {
  "colab": {
   "collapsed_sections": [],
   "name": "A2.ipynb",
   "provenance": [],
   "version": "0.3.2"
  },
  "kernelspec": {
   "display_name": "Python 3",
   "language": "python",
   "name": "python3"
  },
  "language_info": {
   "codemirror_mode": {
    "name": "ipython",
    "version": 3
   },
   "file_extension": ".py",
   "mimetype": "text/x-python",
   "name": "python",
   "nbconvert_exporter": "python",
   "pygments_lexer": "ipython3",
   "version": "3.7.2"
  }
 },
 "nbformat": 4,
 "nbformat_minor": 1
}
